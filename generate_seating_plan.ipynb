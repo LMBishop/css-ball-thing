{
 "cells": [
  {
   "attachments": {},
   "cell_type": "markdown",
   "metadata": {},
   "source": [
    "# Seating plan generator\n",
    "\n",
    "This was made for the [CSS Ball](https://cssbham.com/ball/2023). This approach uses simulated annealing to generate a seating plan for the ball.\n",
    "\n",
    "## Todo\n",
    "\n",
    "* Write a better neighbourhood function\n",
    "* Improve cost function to account for groups split across different tables\n",
    "* Allow for empty seats / tables, and dynamically sized tables"
   ]
  },
  {
   "cell_type": "code",
   "execution_count": null,
   "metadata": {},
   "outputs": [],
   "source": [
    "import random\n",
    "import numpy as np\n",
    "import pandas as pd\n",
    "import networkx as nx\n",
    "import copy\n",
    "import math"
   ]
  },
  {
   "attachments": {},
   "cell_type": "markdown",
   "metadata": {},
   "source": [
    "## Parameters"
   ]
  },
  {
   "cell_type": "code",
   "execution_count": null,
   "metadata": {},
   "outputs": [],
   "source": [
    "num_tables = 15\n",
    "table_size = 10"
   ]
  },
  {
   "attachments": {},
   "cell_type": "markdown",
   "metadata": {},
   "source": [
    "Download the Readable Data spreadsheet as a CSV and save it as `attendees.csv` in the same directory as this notebook."
   ]
  },
  {
   "cell_type": "code",
   "execution_count": null,
   "metadata": {},
   "outputs": [],
   "source": [
    "guests = []\n",
    "guest_groups = {}\n",
    "df = pd.read_csv('attendees.csv')\n",
    "\n",
    "for index, row in df.iterrows():\n",
    "    guests.append((row['Formatted Preferred Name'], row['First Seat Preference'], row['Second Seat Preference']))\n",
    "\n",
    "\n",
    "def find_guest_prefs(guest_name):\n",
    "    global guests\n",
    "    guest = [n for n in guests if n[0] == guest_name]\n",
    "    if len(guest) == 0:\n",
    "        return None\n",
    "    return [guest[0][1], guest[0][2]]\n",
    "\n",
    "def print_arrangement(arrangement):\n",
    "    for index, table in enumerate(arrangement):\n",
    "        print(f'Table {index}: {table}')"
   ]
  },
  {
   "attachments": {},
   "cell_type": "markdown",
   "metadata": {},
   "source": [
    "## Initial arrangement generation\n",
    "\n",
    "This generates a random arrangement of attendees at tables."
   ]
  },
  {
   "cell_type": "code",
   "execution_count": null,
   "metadata": {},
   "outputs": [],
   "source": [
    "def random_arrangement(guests):\n",
    "    random.shuffle(guests)\n",
    "    arrangement = []\n",
    "    for i in range(num_tables):\n",
    "        table = []\n",
    "        for j in range(table_size):\n",
    "            if len(guests) == 0:\n",
    "                break\n",
    "            last, guests = guests[-1], guests[:-1]\n",
    "            table.append(last[0])\n",
    "        arrangement.append(table)\n",
    "\n",
    "        if len(guests) == 0:\n",
    "            break\n",
    "\n",
    "    return arrangement"
   ]
  },
  {
   "attachments": {},
   "cell_type": "markdown",
   "metadata": {},
   "source": [
    "Alternatively, instead of generating a random arrangement, we can seat groups of attendees at a time."
   ]
  },
  {
   "cell_type": "code",
   "execution_count": null,
   "metadata": {},
   "outputs": [],
   "source": [
    "G = nx.Graph()\n",
    "for guest in guests:\n",
    "    G.add_node(guest[0])\n",
    "    for pref in guest[1:3]:\n",
    "        if any(tup[0] == pref for tup in guests):\n",
    "            G.add_edge(guest[0], pref)\n",
    "\n",
    "for index, SG in enumerate(nx.connected_components(G)):\n",
    "    for guest in SG:\n",
    "        guest_groups[guest] = index\n",
    "\n",
    "initial = []\n",
    "current_table = []\n",
    "for index, SG in enumerate(nx.connected_components(G)):\n",
    "    for guest in SG:\n",
    "        if len(current_table) < table_size:\n",
    "            current_table.append(guest)\n",
    "        else:\n",
    "            initial.append(current_table)\n",
    "            current_table = [guest]\n",
    "        guest_groups[guest] = index\n",
    "    initial.append(current_table)\n",
    "    current_table = []\n",
    "\n",
    "del current_table"
   ]
  },
  {
   "cell_type": "code",
   "execution_count": null,
   "metadata": {},
   "outputs": [],
   "source": [
    "# initial = random_arrangement(guests.copy())\n",
    "print_arrangement(initial)"
   ]
  },
  {
   "attachments": {},
   "cell_type": "markdown",
   "metadata": {},
   "source": [
    "\n",
    "## Cost function\n",
    "\n",
    "The cost function adds one for each guest that is not seated beside their preferences. \n",
    "\n",
    "TODO: This is a very simple cost function, and could be improved to account for groups split across different tables."
   ]
  },
  {
   "cell_type": "code",
   "execution_count": null,
   "metadata": {},
   "outputs": [],
   "source": [
    "def individual_cost(table, table_index, guest_prefs):\n",
    "    cost = 0\n",
    "    if not table[(table_index - 1) % len(table)] in guest_prefs:\n",
    "        cost += 1\n",
    "    if not table[(table_index + 1) % len(table)] in guest_prefs:\n",
    "        cost += 1\n",
    "    return cost\n",
    "\n",
    "\n",
    "def cost(seating_arrangement):\n",
    "    total_cost = 0\n",
    "\n",
    "    for table in seating_arrangement:\n",
    "        for i, guest in enumerate(table):\n",
    "            guest_prefs = find_guest_prefs(guest)\n",
    "            total_cost += individual_cost(table, i, guest_prefs)\n",
    "    \n",
    "    return total_cost\n",
    "\n",
    "def cost_prime_breakdown(seating_arrangement):\n",
    "    singular_preference_cost = 0\n",
    "    mutual_preference_cost = 0\n",
    "    group_cost = 0\n",
    "\n",
    "    for table in seating_arrangement:\n",
    "        for i, guest in enumerate(table):\n",
    "            guest_prefs = find_guest_prefs(guest)\n",
    "            adjacent_guests = [table[(i - 1) % len(table)], table[(i + 1) % len(table)]]\n",
    "            for pref in guest_prefs:\n",
    "                if pref not in adjacent_guests:\n",
    "                    pref_prefs = find_guest_prefs(pref)\n",
    "                    if pref_prefs is not None and guest in pref_prefs:\n",
    "                        mutual_preference_cost += 10\n",
    "                    else:\n",
    "                        singular_preference_cost += 1\n",
    "            \n",
    "            group = guest_groups[guest]\n",
    "            group_size = len([guest for guest in guest_groups if guest_groups[guest] == group])\n",
    "            if group_size > table_size:\n",
    "                continue\n",
    "            elif group_size == 1:\n",
    "                continue\n",
    "            group_seated = len([guest for guest in table if guest_groups[guest] == group])\n",
    "            if group_seated == 1:\n",
    "                group_cost += 10\n",
    "            elif group_size - group_seated > 0:\n",
    "                # group_cost += (group_size - group_seated) / 2 if group_size > 5 else (group_size - group_seated)\n",
    "                group_cost += 1 * (1/group_size) if group_size > 5 else 3 * (1/group_size)\n",
    "\n",
    "    \n",
    "    return singular_preference_cost, mutual_preference_cost, group_cost\n",
    "\n",
    "def cost_prime(seating_arrangement):\n",
    "    return sum(cost_prime_breakdown(seating_arrangement))\n"
   ]
  },
  {
   "cell_type": "code",
   "execution_count": null,
   "metadata": {},
   "outputs": [],
   "source": [
    "print(f'Cost of initial arrangement: {cost_prime(initial)}')"
   ]
  },
  {
   "attachments": {},
   "cell_type": "markdown",
   "metadata": {},
   "source": [
    "## Neighbourhood function\n",
    "\n",
    "The neighbourhood function swaps two guests at random. It is shit."
   ]
  },
  {
   "cell_type": "code",
   "execution_count": null,
   "metadata": {},
   "outputs": [],
   "source": [
    "def neighbour_random(seating_arrangement):\n",
    "    seating_arrangement = copy.deepcopy(seating_arrangement)\n",
    "    tables = random.sample(range(len(seating_arrangement)), len(seating_arrangement))\n",
    "    table_from = tables.pop()\n",
    "    while len(seating_arrangement[table_from]) == 0:\n",
    "        table_from = tables.pop()\n",
    "    seat_from = random.sample(range(len(seating_arrangement[table_from])), len(seating_arrangement[table_from])).pop()\n",
    "    table_to = tables.pop()\n",
    "\n",
    "    if len(seating_arrangement[table_to]) < table_size:\n",
    "        seating_arrangement[table_to].append(seating_arrangement[table_from][seat_from])\n",
    "        seating_arrangement[table_from].pop(seat_from)\n",
    "    else:\n",
    "        seat_to = random.sample(range(len(seating_arrangement[table_to])), len(seating_arrangement[table_to])).pop()\n",
    "        to = seating_arrangement[table_to][seat_to]\n",
    "        seating_arrangement[table_to][seat_to] = seating_arrangement[table_from][seat_from]\n",
    "        seating_arrangement[table_from][seat_from] = to\n",
    "    \n",
    "    seating_arrangement = list(filter(lambda x: len(x) > 0, seating_arrangement))\n",
    "    seating_arrangement.append([])\n",
    "\n",
    "    return seating_arrangement"
   ]
  },
  {
   "attachments": {},
   "cell_type": "markdown",
   "metadata": {},
   "source": [
    "## Simulated annealing\n",
    "\n",
    "Main loop for simulated annealing. Takes cost function and neighbourhood function as parameters."
   ]
  },
  {
   "cell_type": "code",
   "execution_count": null,
   "metadata": {},
   "outputs": [],
   "source": [
    "def simulated_annealing(initial, cost, neighbour, temperature, cooling_rate, stopping_temperature, min_iters=0):\n",
    "    current_state = initial\n",
    "    current_cost = cost(current_state)\n",
    "    best_state = current_state\n",
    "    best_cost = current_cost\n",
    "    current_iters = 0\n",
    "    \n",
    "    while temperature > stopping_temperature or current_iters < min_iters:\n",
    "        new_state = neighbour(current_state)\n",
    "        new_cost = cost(new_state)\n",
    "        delta = current_cost - new_cost\n",
    "        \n",
    "        if delta > 0:\n",
    "            current_state = new_state\n",
    "            current_cost = new_cost\n",
    "            if current_cost < best_cost:\n",
    "                best_state = current_state\n",
    "                best_cost = current_cost\n",
    "        else:\n",
    "            probability = math.exp(delta / temperature)\n",
    "            if random.random() < probability:\n",
    "                current_state = new_state\n",
    "                current_cost = new_cost\n",
    "        \n",
    "        temperature *= cooling_rate\n",
    "        current_iters += 1\n",
    "    \n",
    "    return best_state, best_cost"
   ]
  },
  {
   "attachments": {},
   "cell_type": "markdown",
   "metadata": {},
   "source": [
    "Run the actual simulation."
   ]
  },
  {
   "cell_type": "code",
   "execution_count": null,
   "metadata": {},
   "outputs": [],
   "source": [
    "best_seating_arrangement, best_cost = simulated_annealing(initial, cost_prime, neighbour_random, temperature=1000000, cooling_rate=0.99, stopping_temperature=0.00001)\n",
    "\n",
    "print_arrangement(best_seating_arrangement)\n",
    "singular_preference_cost, mutual_preference_cost, group_cost = cost_prime_breakdown(best_seating_arrangement)\n",
    "print(f'Cost')\n",
    "print(f'   Mutual pref: +{mutual_preference_cost}')\n",
    "print(f'   Preferences: +{singular_preference_cost}')\n",
    "print(f'  Split groups: +{group_cost}')\n",
    "print(f'                ={best_cost}')"
   ]
  }
 ],
 "metadata": {
  "kernelspec": {
   "display_name": "Python 3",
   "language": "python",
   "name": "python3"
  },
  "language_info": {
   "codemirror_mode": {
    "name": "ipython",
    "version": 3
   },
   "file_extension": ".py",
   "mimetype": "text/x-python",
   "name": "python",
   "nbconvert_exporter": "python",
   "pygments_lexer": "ipython3",
   "version": "3.8.2"
  },
  "orig_nbformat": 4
 },
 "nbformat": 4,
 "nbformat_minor": 2
}
