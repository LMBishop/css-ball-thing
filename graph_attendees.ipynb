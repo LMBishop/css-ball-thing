{
 "cells": [
  {
   "attachments": {},
   "cell_type": "markdown",
   "metadata": {},
   "source": [
    "# Graph attendees\n",
    "\n",
    "Download the Readable Data spreadsheet as a CSV and save it as `attendees.csv` in the same directory as this notebook."
   ]
  },
  {
   "cell_type": "code",
   "execution_count": null,
   "metadata": {},
   "outputs": [],
   "source": [
    "import networkx as nx\n",
    "import matplotlib.pyplot as plt\n",
    "import matplotlib as mpl\n",
    "import community as com\n",
    "import csv\n",
    "\n",
    "attendees = {}\n",
    "\n",
    "with open('attendees.csv') as attendees_csv:\n",
    "    csv_reader = csv.reader(attendees_csv, delimiter=',')\n",
    "    next(csv_reader, None)\n",
    "    for row in csv_reader:\n",
    "        attendees[row[6]] = [] + ([] if not row[11] else [row[11]]) + ([] if not row[12] else [row[12]])"
   ]
  },
  {
   "attachments": {},
   "cell_type": "markdown",
   "metadata": {},
   "source": [
    "Create the graph for the attendees using `networkx`. Each attendee is a node and the edges are the preferences. The weight of each edge indicates whether it is a one-way preference, or two-way preference."
   ]
  },
  {
   "cell_type": "code",
   "execution_count": null,
   "metadata": {},
   "outputs": [],
   "source": [
    "G = nx.DiGraph()\n",
    "G.add_nodes_from(attendees.keys())\n",
    "\n",
    "for attendee, preferences in attendees.items():\n",
    "    for preference in preferences:\n",
    "        if preference in attendees and attendee in attendees[preference]:\n",
    "            G.add_edge(attendee, preference, weight=2)\n",
    "        else:\n",
    "            G.add_edge(attendee, preference, weight=1)"
   ]
  },
  {
   "attachments": {},
   "cell_type": "markdown",
   "metadata": {},
   "source": [
    "Print all subgraphs of the graph."
   ]
  },
  {
   "cell_type": "code",
   "execution_count": null,
   "metadata": {},
   "outputs": [],
   "source": [
    "for index, SG in enumerate(nx.connected_components(G.to_undirected())):\n",
    "    print(SG)"
   ]
  },
  {
   "attachments": {},
   "cell_type": "markdown",
   "metadata": {},
   "source": [
    "Plot the graph using `matplotlib`."
   ]
  },
  {
   "cell_type": "code",
   "execution_count": null,
   "metadata": {},
   "outputs": [],
   "source": [
    "degrees = dict(G.degree)\n",
    "nodes = G.nodes()\n",
    "edge_labels = nx.get_edge_attributes(G,'weight')\n",
    "pos = nx.nx_pydot.graphviz_layout(G)"
   ]
  },
  {
   "attachments": {},
   "cell_type": "markdown",
   "metadata": {},
   "source": [
    "Use Louvain community detection to find the communities in the graph and colour the nodes accordingly."
   ]
  },
  {
   "cell_type": "code",
   "execution_count": null,
   "metadata": {},
   "outputs": [],
   "source": [
    "partition = com.best_partition(G.to_undirected(), resolution=0.2)\n",
    "cmap = mpl.colormaps['hsv']"
   ]
  },
  {
   "attachments": {},
   "cell_type": "markdown",
   "metadata": {},
   "source": [
    "Plot everything, colouring the labels based on whether the attendee has a ticket, and colouring the nodes based on its community."
   ]
  },
  {
   "cell_type": "code",
   "execution_count": null,
   "metadata": {},
   "outputs": [],
   "source": [
    "plt.figure(figsize=(30, 30))\n",
    "plt.axis('off')\n",
    "\n",
    "nx.draw_networkx_edges(G, pos, width=1) \n",
    "nx.draw_networkx_edge_labels(G, pos, edge_labels, font_size=7)\n",
    "\n",
    "nx.draw_networkx_nodes(G, pos, partition.keys(), \n",
    "                       cmap=cmap, node_color=list(partition.values()),\n",
    "                       node_size=[100 + v * 100 for v in degrees.values()],\n",
    "                       alpha=0.8)\n",
    "\n",
    "for node, (x, y) in pos.items():\n",
    "    if node in attendees:\n",
    "        plt.text(x, y - 0.1, node, ha='center', va='center', color='#000000', fontsize=10)\n",
    "    else:\n",
    "        plt.text(x, y - 0.1, node, ha='center', va='center', color='#ff0000', fontsize=10)\n",
    "\n",
    "plt.savefig('graph.png', dpi=300, bbox_inches='tight')\n",
    "plt.show()"
   ]
  }
 ],
 "metadata": {
  "kernelspec": {
   "display_name": "Python 3",
   "language": "python",
   "name": "python3"
  },
  "language_info": {
   "codemirror_mode": {
    "name": "ipython",
    "version": 3
   },
   "file_extension": ".py",
   "mimetype": "text/x-python",
   "name": "python",
   "nbconvert_exporter": "python",
   "pygments_lexer": "ipython3",
   "version": "3.8.2"
  },
  "orig_nbformat": 4
 },
 "nbformat": 4,
 "nbformat_minor": 2
}
