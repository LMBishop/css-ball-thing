{
 "cells": [
  {
   "attachments": {},
   "cell_type": "markdown",
   "metadata": {},
   "source": [
    "# Attendee name anonymiser\n",
    "\n",
    "Download the Readable Data spreadsheet as a CSV and save it as `attendees.csv` in the same directory as this notebook."
   ]
  },
  {
   "cell_type": "code",
   "execution_count": null,
   "metadata": {},
   "outputs": [],
   "source": [
    "import pandas as pd\n",
    "import numpy as np\n",
    "\n",
    "guests = []\n",
    "encoding = {}\n",
    "person_int = 0\n",
    "df = pd.read_csv('attendees.csv')\n",
    "df = df.replace(np.nan, None)\n",
    "\n",
    "def get_name(name):\n",
    "    if name is None:\n",
    "        return None \n",
    "\n",
    "    if name in encoding:\n",
    "        return encoding[name]\n",
    "    else:\n",
    "        global person_int\n",
    "        encoding[name] = f'Person {person_int}'\n",
    "        person_int += 1\n",
    "        return encoding[name] \n",
    "\n",
    "for index, row in df.iterrows():\n",
    "    name = get_name(row['Formatted Preferred Name'])\n",
    "    first_seat = get_name(row['First Seat Preference'])\n",
    "    second_seat = get_name(row['Second Seat Preference'])\n",
    "    guests.append([name, first_seat, second_seat])\n",
    "\n",
    "df = pd.DataFrame(guests, columns=['Name', 'First Seat Preference', 'Second Seat Preference'])\n",
    "# df.to_csv('attendees_randomised.csv', index=False)\n",
    "display(df)"
   ]
  }
 ],
 "metadata": {
  "kernelspec": {
   "display_name": "Python 3",
   "language": "python",
   "name": "python3"
  },
  "language_info": {
   "codemirror_mode": {
    "name": "ipython",
    "version": 3
   },
   "file_extension": ".py",
   "mimetype": "text/x-python",
   "name": "python",
   "nbconvert_exporter": "python",
   "pygments_lexer": "ipython3",
   "version": "3.8.2"
  },
  "orig_nbformat": 4
 },
 "nbformat": 4,
 "nbformat_minor": 2
}
